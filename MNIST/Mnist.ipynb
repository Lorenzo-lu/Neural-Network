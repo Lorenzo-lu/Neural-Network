{
 "cells": [
  {
   "cell_type": "code",
   "execution_count": 1,
   "metadata": {},
   "outputs": [],
   "source": [
    "import pandas as pd;\n",
    "import numpy as np;\n",
    "import matplotlib.pyplot as plt;\n",
    "\n",
    "from YZ_ANN import YZ_ANN;"
   ]
  },
  {
   "cell_type": "code",
   "execution_count": 2,
   "metadata": {},
   "outputs": [],
   "source": [
    "df_train = pd.read_csv(\"train.csv\");\n",
    "\n",
    "dt = df_train.values;\n",
    "\n",
    "np.random.shuffle(dt);\n",
    "\n",
    "divide = int(len(dt) * 0.7);\n",
    "\n",
    "\n",
    "target = dt[:divide,0];\n",
    "X = dt[:divide,1:];\n",
    "X = X/np.max(X);\n",
    "\n",
    "target_test = dt[divide:,0];\n",
    "X_test = dt[divide:,1:];\n",
    "X_test = X_test/np.max(X_test);\n"
   ]
  },
  {
   "cell_type": "code",
   "execution_count": 3,
   "metadata": {},
   "outputs": [
    {
     "name": "stdout",
     "output_type": "stream",
     "text": [
      "support three outputs format : 1. Softmax (for multiple                 classfification) 2. Sigmoid 3.Linear(for regression)!\n",
      "The current activations you can choose are:\n",
      "{1: 'Sigmoid', 2: 'ReLU', 3: 'Leaky_ReLU', 4: 'Tanh', 5: 'Softmax', 6: 'Linear'}\n",
      "Now choosing your most frequent activation function in this case:\n"
     ]
    },
    {
     "name": "stdin",
     "output_type": "stream",
     "text": [
      " 2\n"
     ]
    },
    {
     "name": "stdout",
     "output_type": "stream",
     "text": [
      "The current activations for each layers (without last layer) are:\n",
      "[[0, 'ReLU']]\n"
     ]
    },
    {
     "name": "stdin",
     "output_type": "stream",
     "text": [
      "Good with current activation sequence?\n",
      "Y/N\n",
      " Y\n"
     ]
    },
    {
     "name": "stdout",
     "output_type": "stream",
     "text": [
      "You are now doing a multiple classification by 'Softmax'\n",
      "The final activation functions are:\n",
      "\n",
      "[[0, 'Input layer (nodes x784)'], [1, 'ReLU(nodes x128)'], [2, 'Softmax(nodes x10)']]\n"
     ]
    }
   ],
   "source": [
    "Layer_nodes = [len(X[0,:]), 128, 10];\n",
    "myNet = YZ_ANN();\n",
    "myNet.Train(X,target, Layer_nodes);\n",
    "myNet.Load_valid(X_test, target_test);"
   ]
  },
  {
   "cell_type": "code",
   "execution_count": 4,
   "metadata": {},
   "outputs": [
    {
     "name": "stdout",
     "output_type": "stream",
     "text": [
      "Mini-batch (size 10) Gradient Ascent!\n",
      "Process (0 / 146995)\n",
      "test cost: 1.130e+02 | train classification rate: 1.026e-01\n",
      "valid cost: 1.138e+02 | valid classification rate: 1.021e-01\n",
      "Process (29399 / 146995)\n",
      "test cost: 2.039e-01 | train classification rate: 9.487e-01\n",
      "valid cost: 5.247e-01 | valid classification rate: 9.110e-01\n",
      "Process (58798 / 146995)\n",
      "test cost: 1.112e-01 | train classification rate: 9.685e-01\n",
      "valid cost: 4.143e-01 | valid classification rate: 9.227e-01\n",
      "Process (88197 / 146995)\n",
      "test cost: 7.117e-02 | train classification rate: 9.791e-01\n",
      "valid cost: 3.667e-01 | valid classification rate: 9.287e-01\n",
      "Process (117596 / 146995)\n",
      "test cost: 5.052e-02 | train classification rate: 9.857e-01\n",
      "valid cost: 3.394e-01 | valid classification rate: 9.333e-01\n",
      "Process (146995 / 146995)\n",
      "test cost: 4.269e-02 | train classification rate: 9.879e-01\n",
      "valid cost: 3.182e-01 | valid classification rate: 9.357e-01\n"
     ]
    },
    {
     "data": {
      "image/png": "[encoded data removed]",
      "text/plain": [
       "<Figure size 432x288 with 1 Axes>"
      ]
     },
     "metadata": {
      "needs_background": "light"
     },
     "output_type": "display_data"
    },
    {
     "name": "stdout",
     "output_type": "stream",
     "text": [
      "Is the Optimal achieved?\n"
     ]
    },
    {
     "name": "stdin",
     "output_type": "stream",
     "text": [
      "Y/N\n",
      " Y\n"
     ]
    }
   ],
   "source": [
    "myNet.Optimal(learning_rate = 2e-2, beta = 0.5, regularization = 1e-4, plot_step =len(X[:,0]), max_epoch = len(X[:,0]) * 5, batch_size = 10);"
   ]
  },
  {
   "cell_type": "code",
   "execution_count": null,
   "metadata": {},
   "outputs": [],
   "source": []
  },
  {
   "cell_type": "code",
   "execution_count": null,
   "metadata": {},
   "outputs": [],
   "source": []
  },
  {
   "cell_type": "code",
   "execution_count": 5,
   "metadata": {},
   "outputs": [
    {
     "name": "stdout",
     "output_type": "stream",
     "text": [
      "The classification rate of the test set is:  0.9357193873502103\n",
      "Test_classification is 0.9357193873502103\n"
     ]
    }
   ],
   "source": [
    "CR = myNet.Test_classification_rate(X_test, target_test);\n",
    "print(\"Test_classification is\", CR);"
   ]
  },
  {
   "cell_type": "code",
   "execution_count": null,
   "metadata": {},
   "outputs": [],
   "source": []
  },
  {
   "cell_type": "code",
   "execution_count": null,
   "metadata": {},
   "outputs": [],
   "source": []
  },
  {
   "cell_type": "code",
   "execution_count": null,
   "metadata": {},
   "outputs": [],
   "source": []
  }
 ],
 "metadata": {
  "kernelspec": {
   "display_name": "Python 3",
   "language": "python",
   "name": "python3"
  },
  "language_info": {
   "codemirror_mode": {
    "name": "ipython",
    "version": 3
   },
   "file_extension": ".py",
   "mimetype": "text/x-python",
   "name": "python",
   "nbconvert_exporter": "python",
   "pygments_lexer": "ipython3",
   "version": "3.7.4"
  }
 },
 "nbformat": 4,
 "nbformat_minor": 4
}
